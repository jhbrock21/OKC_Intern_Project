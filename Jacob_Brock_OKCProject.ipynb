{
 "cells": [
  {
   "cell_type": "markdown",
   "metadata": {
    "tags": []
   },
   "source": [
    "# Name: Jacob Brock\n",
    "### Date: 09 September 2023"
   ]
  },
  {
   "cell_type": "markdown",
   "metadata": {},
   "source": [
    "<style>\n",
    ".jp-Notebook {\n",
    "    padding: var(--jp-notebook-padding);\n",
    "    margin-left: 160px;\n",
    "    outline: none;\n",
    "    overflow: auto;\n",
    "    background: var(--jp-layout-color0);\n",
    "}\n",
    "</style>"
   ]
  },
  {
   "cell_type": "markdown",
   "metadata": {},
   "source": [
    "<img src=\"https://cdn.nba.com/logos/nba/1610612760/primary/L/logo.svg\" alt=\"logo\" style=\"position: fixed; top: -40px; left: 5px; height: 250px;\">"
   ]
  },
  {
   "cell_type": "markdown",
   "metadata": {
    "jp-MarkdownHeadingCollapsed": true,
    "tags": []
   },
   "source": [
    "# Introduction  \n",
    "\n",
    "The purpose of this project is to gauge your technical skills and problem solving ability by working through something similar to a real NBA data science project. You will work your way through this jupyter notebook, answering questions as you go along. Please begin by adding your name to the top markdown chunk in this document. When you're finished with the document, come back and type your answers into the answer key at the top. Please leave all your work below and have your answers where indicated below as well. Please note that we will be reviewing your code so make it clear, concise and avoid long printouts. Feel free to add in as many new code chunks as you'd like.\n",
    "\n",
    "Remember that we will be grading the quality of your code and visuals alongside the correctness of your answers. Please try to use packages like pandas/numpy and matplotlib/seaborn as much as possible (instead of base python data manipulations and explicit loops.)  \n",
    "\n",
    "**WARNING:** Your project will **ONLY** be graded if it's knit to an HTML document where we can see your code. Be careful to make sure that any long lines of code appropriately visibly wrap around visibly to the next line, as code that's cut off from the side of the document cannot be graded.  \n",
    "\n",
    "**Note:**    \n",
    "\n",
    "**Throughout this document, any `season` column represents the year each season started. For example, the 2015-16 season will be in the dataset as 2015. For most of the rest of the project, we will refer to a season by just this number (e.g. 2015) instead of the full text (e.g. 2015-16).** "
   ]
  },
  {
   "cell_type": "markdown",
   "metadata": {},
   "source": [
    "# Answers  \n",
    "\n",
    "## Part 1      \n",
    "\n",
    "**Question 1:**   \n",
    "\n",
    "- 1st Team: XX.X points per game  \n",
    "- 2nd Team: XX.X points per game  \n",
    "- 3rd Team: XX.X points per game  \n",
    "- All-Star: XX.X points per game   \n",
    "\n",
    "**Question 2:** XX.X Years  \n",
    "\n",
    "**Question 3:** \n",
    "\n",
    "- Elite: X players.  \n",
    "- All-Star: X players.  \n",
    "- Starter: X players.  \n",
    "- Rotation: X players.  \n",
    "- Roster: X players.  \n",
    "- Out of League: X players.  \n",
    "\n",
    "**Open Ended Modeling Question:** Please show your work and leave all responses below in the document.\n",
    "\n",
    "\n",
    "## Part 2  \n",
    "\n",
    "**Question 1:** XX.X%   \n",
    "**Question 2:** Written question, put answer below in the document.    \n",
    "**Question 3:** Written question, put answer below in the document.    \n",
    "  \n"
   ]
  },
  {
   "cell_type": "markdown",
   "metadata": {},
   "source": [
    "# Setup and Data    "
   ]
  },
  {
   "cell_type": "code",
   "execution_count": 5,
   "metadata": {},
   "outputs": [],
   "source": [
    "import pandas as pd\n",
    "from sklearn.model_selection import train_test_split\n",
    "from sklearn.linear_model import LogisticRegression\n",
    "from sklearn.metrics import accuracy_score, classification_report, confusion_matrix\n",
    "from sklearn.preprocessing import StandardScaler\n",
    "# Note you will likely have to change these paths. \n",
    "# If your data is in the same folder as this project, \n",
    "# the paths will likely be fixe|d for you by deleting ../../Data/awards_project/ from each string.\n",
    "awards = pd.read_csv(\"C:/Users/jacob/Desktop/OKC/awards_data.csv\")\n",
    "player_data = pd.read_csv(\"C:/Users/jacob/Desktop/OKC/player_stats.csv\")\n",
    "team_data = pd.read_csv(\"C:/Users/jacob/Desktop/OKC/team_stats.csv\")\n",
    "rebounding_data = pd.read_csv(\"C:/Users/jacob/Desktop/OKC/team_rebounding_data_22.csv\")"
   ]
  },
  {
   "cell_type": "code",
   "execution_count": 6,
   "metadata": {},
   "outputs": [],
   "source": [
    "#Create a copy of the awards and player dataset to clean them for later use\n",
    "awards2 = awards.copy()\n",
    "player_data2 = player_data.copy()"
   ]
  },
  {
   "cell_type": "code",
   "execution_count": 7,
   "metadata": {},
   "outputs": [
    {
     "data": {
      "text/html": [
       "<div>\n",
       "<style scoped>\n",
       "    .dataframe tbody tr th:only-of-type {\n",
       "        vertical-align: middle;\n",
       "    }\n",
       "\n",
       "    .dataframe tbody tr th {\n",
       "        vertical-align: top;\n",
       "    }\n",
       "\n",
       "    .dataframe thead th {\n",
       "        text-align: right;\n",
       "    }\n",
       "</style>\n",
       "<table border=\"1\" class=\"dataframe\">\n",
       "  <thead>\n",
       "    <tr style=\"text-align: right;\">\n",
       "      <th></th>\n",
       "      <th>season</th>\n",
       "      <th>nbapersonid</th>\n",
       "      <th>Bill Russell NBA Finals MVP</th>\n",
       "      <th>all_star_game</th>\n",
       "      <th>rookie_all_star_game</th>\n",
       "      <th>allNBA_Selections</th>\n",
       "      <th>allRookie_Selections</th>\n",
       "      <th>dpoy</th>\n",
       "      <th>mvp</th>\n",
       "      <th>most_imp</th>\n",
       "      <th>roty</th>\n",
       "      <th>smoty</th>\n",
       "    </tr>\n",
       "  </thead>\n",
       "  <tbody>\n",
       "    <tr>\n",
       "      <th>0</th>\n",
       "      <td>2007</td>\n",
       "      <td>708.0</td>\n",
       "      <td>0.0</td>\n",
       "      <td>True</td>\n",
       "      <td>False</td>\n",
       "      <td>1</td>\n",
       "      <td>0</td>\n",
       "      <td>1</td>\n",
       "      <td>0</td>\n",
       "      <td>0</td>\n",
       "      <td>0</td>\n",
       "      <td>0</td>\n",
       "    </tr>\n",
       "    <tr>\n",
       "      <th>1</th>\n",
       "      <td>2007</td>\n",
       "      <td>947.0</td>\n",
       "      <td>0.0</td>\n",
       "      <td>True</td>\n",
       "      <td>False</td>\n",
       "      <td>0</td>\n",
       "      <td>0</td>\n",
       "      <td>0</td>\n",
       "      <td>0</td>\n",
       "      <td>0</td>\n",
       "      <td>0</td>\n",
       "      <td>0</td>\n",
       "    </tr>\n",
       "    <tr>\n",
       "      <th>2</th>\n",
       "      <td>2007</td>\n",
       "      <td>948.0</td>\n",
       "      <td>0.0</td>\n",
       "      <td>NaN</td>\n",
       "      <td>NaN</td>\n",
       "      <td>1</td>\n",
       "      <td>0</td>\n",
       "      <td>0</td>\n",
       "      <td>0</td>\n",
       "      <td>0</td>\n",
       "      <td>0</td>\n",
       "      <td>0</td>\n",
       "    </tr>\n",
       "    <tr>\n",
       "      <th>3</th>\n",
       "      <td>2007</td>\n",
       "      <td>959.0</td>\n",
       "      <td>0.0</td>\n",
       "      <td>True</td>\n",
       "      <td>False</td>\n",
       "      <td>1</td>\n",
       "      <td>0</td>\n",
       "      <td>0</td>\n",
       "      <td>0</td>\n",
       "      <td>0</td>\n",
       "      <td>0</td>\n",
       "      <td>0</td>\n",
       "    </tr>\n",
       "    <tr>\n",
       "      <th>4</th>\n",
       "      <td>2007</td>\n",
       "      <td>977.0</td>\n",
       "      <td>0.0</td>\n",
       "      <td>True</td>\n",
       "      <td>False</td>\n",
       "      <td>1</td>\n",
       "      <td>0</td>\n",
       "      <td>0</td>\n",
       "      <td>1</td>\n",
       "      <td>0</td>\n",
       "      <td>0</td>\n",
       "      <td>0</td>\n",
       "    </tr>\n",
       "  </tbody>\n",
       "</table>\n",
       "</div>"
      ],
      "text/plain": [
       "   season  nbapersonid  Bill Russell NBA Finals MVP all_star_game  \\\n",
       "0    2007        708.0                          0.0          True   \n",
       "1    2007        947.0                          0.0          True   \n",
       "2    2007        948.0                          0.0           NaN   \n",
       "3    2007        959.0                          0.0          True   \n",
       "4    2007        977.0                          0.0          True   \n",
       "\n",
       "  rookie_all_star_game  allNBA_Selections  allRookie_Selections  dpoy  mvp  \\\n",
       "0                False                  1                     0     1    0   \n",
       "1                False                  0                     0     0    0   \n",
       "2                  NaN                  1                     0     0    0   \n",
       "3                False                  1                     0     0    0   \n",
       "4                False                  1                     0     0    1   \n",
       "\n",
       "   most_imp  roty  smoty  \n",
       "0         0     0      0  \n",
       "1         0     0      0  \n",
       "2         0     0      0  \n",
       "3         0     0      0  \n",
       "4         0     0      0  "
      ]
     },
     "execution_count": 7,
     "metadata": {},
     "output_type": "execute_result"
    }
   ],
   "source": [
    "#Create a list that includes each all nba selection and one for each all rookie selection\n",
    "allNBA_columns = ['All NBA Defensive First Team','All NBA Defensive Second Team',\n",
    "                    'All NBA First Team','All NBA Second Team','All NBA Third Team']\n",
    "allRookie_columns = ['All Rookie First Team','All Rookie Second Team']\n",
    "\n",
    "#Iterate through each row in awards2 and increment allNBA_Selections or allRookie_Selections\n",
    "# if player was selected to one of the teams\n",
    "awards2['allNBA_Selections'] = 0\n",
    "for index, row in awards2.iterrows():\n",
    "    if 1 in row[allNBA_columns].values:\n",
    "        #Increment 'allNBA_Selections' by one if player selected to All NBA team\n",
    "        awards2.at[index, 'allNBA_Selections'] += 1\n",
    "awards2['allRookie_Selections'] = 0\n",
    "for index, row in awards2.iterrows():\n",
    "    if 1 in row[allRookie_columns].values:\n",
    "        #Increment 'allNBA_Selections' by one if player selected to All NBA team\n",
    "        awards2.at[index, 'allRookie_Selections'] += 1\n",
    "\n",
    "# Create a function that will determine if a player won an award based on their ranking for that award\n",
    "# Example, if a player was ranked 1 in the mvp ranks, he won the mvp award that season\n",
    "awards2_func = lambda x: 0 if x != 1 else 1\n",
    "awards2['dpoy'] = awards['Defensive Player Of The Year_rk'].apply(awards2_func)\n",
    "awards2['mvp'] = awards['Most Valuable Player_rk'].apply(awards2_func)\n",
    "awards2['allstar_rk'] = awards['allstar_rk'].apply(awards2_func)\n",
    "awards2['most_imp'] = awards['Most Improved Player_rk'].apply(awards2_func)\n",
    "awards2['roty'] = awards['Rookie Of The Year_rk'].apply(awards2_func)\n",
    "awards2['smoty'] = awards['Sixth Man Of The Year_rk'].apply(awards2_func)\n",
    "\n",
    "# Drop all of the columns in awards2 that are not needed\n",
    "awards2.drop(columns=['All NBA Defensive First Team',\n",
    "       'All NBA Defensive Second Team', 'All NBA First Team',\n",
    "       'All NBA Second Team', 'All NBA Third Team', 'All Rookie First Team',\n",
    "       'All Rookie Second Team','Player Of The Month', 'Player Of The Week', 'Rookie Of The Month',\n",
    "       'allstar_rk','Defensive Player Of The Year_rk', 'Most Improved Player_rk',\n",
    "       'Most Valuable Player_rk', 'Rookie Of The Year_rk',\n",
    "       'Sixth Man Of The Year_rk', 'all_nba_points_rk',\n",
    "       'all_rookie_points_rk'],inplace=True)\n",
    "awards2.head()"
   ]
  },
  {
   "cell_type": "code",
   "execution_count": 8,
   "metadata": {
    "scrolled": true
   },
   "outputs": [
    {
     "data": {
      "text/html": [
       "<div>\n",
       "<style scoped>\n",
       "    .dataframe tbody tr th:only-of-type {\n",
       "        vertical-align: middle;\n",
       "    }\n",
       "\n",
       "    .dataframe tbody tr th {\n",
       "        vertical-align: top;\n",
       "    }\n",
       "\n",
       "    .dataframe thead th {\n",
       "        text-align: right;\n",
       "    }\n",
       "</style>\n",
       "<table border=\"1\" class=\"dataframe\">\n",
       "  <thead>\n",
       "    <tr style=\"text-align: right;\">\n",
       "      <th></th>\n",
       "      <th>nbapersonid</th>\n",
       "      <th>player</th>\n",
       "      <th>season</th>\n",
       "      <th>draftyear</th>\n",
       "      <th>draftpick</th>\n",
       "      <th>team</th>\n",
       "      <th>games</th>\n",
       "      <th>games_start</th>\n",
       "      <th>mins</th>\n",
       "      <th>PPG</th>\n",
       "      <th>...</th>\n",
       "      <th>blk_pct</th>\n",
       "      <th>tov_pct</th>\n",
       "      <th>usg</th>\n",
       "      <th>OWS</th>\n",
       "      <th>DWS</th>\n",
       "      <th>WS</th>\n",
       "      <th>OBPM</th>\n",
       "      <th>DBPM</th>\n",
       "      <th>BPM</th>\n",
       "      <th>VORP</th>\n",
       "    </tr>\n",
       "  </thead>\n",
       "  <tbody>\n",
       "    <tr>\n",
       "      <th>0</th>\n",
       "      <td>708.0</td>\n",
       "      <td>Kevin Garnett</td>\n",
       "      <td>2007</td>\n",
       "      <td>1995</td>\n",
       "      <td>5.0</td>\n",
       "      <td>BOS</td>\n",
       "      <td>71</td>\n",
       "      <td>71</td>\n",
       "      <td>2328</td>\n",
       "      <td>18.83</td>\n",
       "      <td>...</td>\n",
       "      <td>0.031</td>\n",
       "      <td>0.108</td>\n",
       "      <td>0.255</td>\n",
       "      <td>6.6</td>\n",
       "      <td>6.2</td>\n",
       "      <td>12.9</td>\n",
       "      <td>4.7</td>\n",
       "      <td>3.5</td>\n",
       "      <td>8.2</td>\n",
       "      <td>6.0</td>\n",
       "    </tr>\n",
       "    <tr>\n",
       "      <th>1</th>\n",
       "      <td>708.0</td>\n",
       "      <td>Kevin Garnett</td>\n",
       "      <td>2007</td>\n",
       "      <td>1995</td>\n",
       "      <td>5.0</td>\n",
       "      <td>BOS</td>\n",
       "      <td>57</td>\n",
       "      <td>57</td>\n",
       "      <td>1772</td>\n",
       "      <td>15.77</td>\n",
       "      <td>...</td>\n",
       "      <td>0.031</td>\n",
       "      <td>0.101</td>\n",
       "      <td>0.234</td>\n",
       "      <td>3.0</td>\n",
       "      <td>4.1</td>\n",
       "      <td>7.1</td>\n",
       "      <td>2.8</td>\n",
       "      <td>3.0</td>\n",
       "      <td>5.7</td>\n",
       "      <td>3.5</td>\n",
       "    </tr>\n",
       "    <tr>\n",
       "      <th>2</th>\n",
       "      <td>708.0</td>\n",
       "      <td>Kevin Garnett</td>\n",
       "      <td>2007</td>\n",
       "      <td>1995</td>\n",
       "      <td>5.0</td>\n",
       "      <td>BOS</td>\n",
       "      <td>69</td>\n",
       "      <td>69</td>\n",
       "      <td>2060</td>\n",
       "      <td>14.35</td>\n",
       "      <td>...</td>\n",
       "      <td>0.022</td>\n",
       "      <td>0.104</td>\n",
       "      <td>0.221</td>\n",
       "      <td>3.6</td>\n",
       "      <td>3.8</td>\n",
       "      <td>7.3</td>\n",
       "      <td>1.5</td>\n",
       "      <td>1.9</td>\n",
       "      <td>3.5</td>\n",
       "      <td>2.9</td>\n",
       "    </tr>\n",
       "    <tr>\n",
       "      <th>3</th>\n",
       "      <td>708.0</td>\n",
       "      <td>Kevin Garnett</td>\n",
       "      <td>2007</td>\n",
       "      <td>1995</td>\n",
       "      <td>5.0</td>\n",
       "      <td>BOS</td>\n",
       "      <td>71</td>\n",
       "      <td>71</td>\n",
       "      <td>2220</td>\n",
       "      <td>14.87</td>\n",
       "      <td>...</td>\n",
       "      <td>0.020</td>\n",
       "      <td>0.111</td>\n",
       "      <td>0.223</td>\n",
       "      <td>3.4</td>\n",
       "      <td>5.6</td>\n",
       "      <td>9.0</td>\n",
       "      <td>1.8</td>\n",
       "      <td>2.9</td>\n",
       "      <td>4.7</td>\n",
       "      <td>3.8</td>\n",
       "    </tr>\n",
       "    <tr>\n",
       "      <th>4</th>\n",
       "      <td>708.0</td>\n",
       "      <td>Kevin Garnett</td>\n",
       "      <td>2007</td>\n",
       "      <td>1995</td>\n",
       "      <td>5.0</td>\n",
       "      <td>BOS</td>\n",
       "      <td>60</td>\n",
       "      <td>60</td>\n",
       "      <td>1864</td>\n",
       "      <td>15.78</td>\n",
       "      <td>...</td>\n",
       "      <td>0.025</td>\n",
       "      <td>0.111</td>\n",
       "      <td>0.249</td>\n",
       "      <td>2.6</td>\n",
       "      <td>4.3</td>\n",
       "      <td>6.9</td>\n",
       "      <td>1.8</td>\n",
       "      <td>2.5</td>\n",
       "      <td>4.3</td>\n",
       "      <td>2.9</td>\n",
       "    </tr>\n",
       "  </tbody>\n",
       "</table>\n",
       "<p>5 rows × 59 columns</p>\n",
       "</div>"
      ],
      "text/plain": [
       "   nbapersonid         player  season  draftyear  draftpick team  games  \\\n",
       "0        708.0  Kevin Garnett    2007       1995        5.0  BOS     71   \n",
       "1        708.0  Kevin Garnett    2007       1995        5.0  BOS     57   \n",
       "2        708.0  Kevin Garnett    2007       1995        5.0  BOS     69   \n",
       "3        708.0  Kevin Garnett    2007       1995        5.0  BOS     71   \n",
       "4        708.0  Kevin Garnett    2007       1995        5.0  BOS     60   \n",
       "\n",
       "   games_start  mins    PPG  ...  blk_pct  tov_pct    usg  OWS  DWS    WS  \\\n",
       "0           71  2328  18.83  ...    0.031    0.108  0.255  6.6  6.2  12.9   \n",
       "1           57  1772  15.77  ...    0.031    0.101  0.234  3.0  4.1   7.1   \n",
       "2           69  2060  14.35  ...    0.022    0.104  0.221  3.6  3.8   7.3   \n",
       "3           71  2220  14.87  ...    0.020    0.111  0.223  3.4  5.6   9.0   \n",
       "4           60  1864  15.78  ...    0.025    0.111  0.249  2.6  4.3   6.9   \n",
       "\n",
       "   OBPM  DBPM  BPM VORP  \n",
       "0   4.7   3.5  8.2  6.0  \n",
       "1   2.8   3.0  5.7  3.5  \n",
       "2   1.5   1.9  3.5  2.9  \n",
       "3   1.8   2.9  4.7  3.8  \n",
       "4   1.8   2.5  4.3  2.9  \n",
       "\n",
       "[5 rows x 59 columns]"
      ]
     },
     "execution_count": 8,
     "metadata": {},
     "output_type": "execute_result"
    }
   ],
   "source": [
    "\"\"\"Merged the awards dataset with the player_data dataset to be used for the first and second question.\n",
    "I merged awards2 and player_data2 together and cleaned it for use in the rest of the questions.\"\"\"\n",
    "merged_playerData = pd.merge(awards,player_data, on='nbapersonid')\n",
    "cleaned_mergedData = pd.merge(awards2,player_data2, on='nbapersonid')\n",
    "cleaned_mergedData['PPG'] = round(cleaned_mergedData['points'] / cleaned_mergedData['games'],2)\n",
    "\n",
    "# Ordered the columns for improved readability and to move the important columns to the front\n",
    "order = ['nbapersonid','player','season_x', 'draftyear','draftpick','team', 'games',\n",
    "        'games_start', 'mins','PPG','Bill Russell NBA Finals MVP','allNBA_Selections',\n",
    "        'allRookie_Selections','dpoy', 'mvp', 'most_imp','roty', 'smoty','all_star_game','rookie_all_star_game','fgm', 'fga',\n",
    "        'fgp', 'fgm3', 'fga3', 'fgp3', 'fgm2', 'fga2', 'fgp2', 'efg', 'ftm',\n",
    "        'fta', 'ftp', 'off_reb', 'def_reb', 'tot_reb', 'ast', 'steals',\n",
    "        'blocks', 'tov', 'tot_fouls', 'points', 'PER', 'FTr', 'off_reb_pct',\n",
    "        'def_reb_pct', 'tot_reb_pct', 'ast_pct', 'stl_pct', 'blk_pct',\n",
    "        'tov_pct', 'usg', 'OWS', 'DWS', 'WS', 'OBPM', 'DBPM', 'BPM', 'VORP']\n",
    "cleaned_mergedData = cleaned_mergedData[order]\n",
    "#Renamed season_x to season for improved clarity\n",
    "cleaned_mergedData.rename(columns={'season_x':'season'},inplace=True)\n",
    "cleaned_mergedData.head()"
   ]
  },
  {
   "cell_type": "markdown",
   "metadata": {},
   "source": [
    "## Part 1 -- Awards  \n",
    "\n",
    "In this section, you're going to work with data relating to player awards and statistics. You'll start with some data manipulation questions and work towards building a model to predict broad levels of career success.  \n"
   ]
  },
  {
   "cell_type": "markdown",
   "metadata": {},
   "source": [
    "### Question 1  \n",
    "\n",
    "**QUESTION:** What is the average number of points per game for players in the 2007-2021 seasons who won All NBA First, Second, and Third teams (**not** the All Defensive Teams), as well as for players who were in the All-Star Game (**not** the rookie all-star game)?\n",
    "\n",
    "\n",
    " "
   ]
  },
  {
   "cell_type": "code",
   "execution_count": 148,
   "metadata": {},
   "outputs": [],
   "source": [
    "# Merge player data and awards data together using nbapersonid as a common identifier\n",
    "merged_playerData = pd.merge(awards,player_data, on='nbapersonid')\n",
    "\n",
    "# Determine each players ppg per season using points divided by games played\n",
    "merged_playerData['ppg'] = merged_playerData['points'] / merged_playerData['games']\n",
    "\n",
    "# Create new DataFrames for each team by filtering merged_playerData by each team selection\n",
    "first_team = merged_playerData[merged_playerData['All NBA First Team'] == 1]\n",
    "second_team = merged_playerData[merged_playerData['All NBA Second Team'] == 1]\n",
    "third_team = merged_playerData[merged_playerData['All NBA Third Team'] == 1]\n",
    "all_star = merged_playerData[merged_playerData['all_star_game'] == 1]"
   ]
  },
  {
   "cell_type": "code",
   "execution_count": 149,
   "metadata": {
    "jupyter": {
     "outputs_hidden": true
    }
   },
   "outputs": [
    {
     "name": "stdout",
     "output_type": "stream",
     "text": [
      "Selected All NBA First Team Player Avg. PPG: 22.31\n",
      "Selected All NBA Second Team Player Avg. PPG: 19.60\n",
      "Selected All NBA Third Team Player Avg. PPG: 17.41\n",
      "Selected All-Star Team Player Avg. PPG: 22.31\n"
     ]
    }
   ],
   "source": [
    "# Get the average points per game for players selected in the first, second, third, or all-star team\n",
    "# by averaging the points per game by each player selected each season\n",
    "average_first_ppg = first_team['ppg'].mean()\n",
    "average_second_ppg = second_team['ppg'].mean()\n",
    "average_third_ppg = third_team['ppg'].mean()\n",
    "average_allstar_ppg = all_star['ppg'].mean()\n",
    "\n",
    "# Print the result for each team selection\n",
    "print('Selected All NBA First Team Player Avg. PPG: {:.2f}'.format(average_first_ppg))\n",
    "print('Selected All NBA Second Team Player Avg. PPG: {:.2f}'.format(average_second_ppg))\n",
    "print('Selected All NBA Third Team Player Avg. PPG: {:.2f}'.format(average_third_ppg))\n",
    "print('Selected All-Star Team Player Avg. PPG: {:.2f}'.format(average_first_ppg))"
   ]
  },
  {
   "cell_type": "markdown",
   "metadata": {},
   "source": [
    "<strong><span style=\"color:red\">ANSWER 1:</span></strong>   \n",
    "\n",
    "1st Team: 22.31 points per game  \n",
    "2nd Team: 19.60 points per game  \n",
    "3rd Team: 17.41 points per game  \n",
    "All-Star: 22.31 points per game  "
   ]
  },
  {
   "cell_type": "markdown",
   "metadata": {},
   "source": [
    "### Question 2  \n",
    "\n",
    "**QUESTION:** What was the average number of years of experience in the league it takes for players to make their first All NBA Selection (1st, 2nd, or 3rd team)? Please limit your sample to players drafted in 2007 or later who did eventually go on to win at least one All NBA selection. For example:\n",
    "\n",
    "- Luka Doncic is in the dataset as 2 years. He was drafted in 2018 and won his first All NBA award in 2019 (which was his second season).  \n",
    "- LeBron James is not in this dataset, as he was drafted prior to 2007.  \n",
    "- Lu Dort is not in this dataset, as he has not received any All NBA honors.  \n",
    "\n"
   ]
  },
  {
   "cell_type": "code",
   "execution_count": 150,
   "metadata": {
    "jupyter": {
     "outputs_hidden": true
    }
   },
   "outputs": [
    {
     "name": "stdout",
     "output_type": "stream",
     "text": [
      "Average Years of Experience Before First All-NBA Selection (2007 or later draftees): 3.75\n"
     ]
    }
   ],
   "source": [
    "# Create new DataFrame by filtering the merged dataframe only to include players\n",
    "# drafted in or after 2007\n",
    "drafted_2007_later = merged_playerData[merged_playerData['draftyear'] >= 2007].copy()\n",
    "\n",
    "# Group by player and their first All NBA selection and calculate number of years\n",
    "# experience at the time of first All NBA selection (YoE)\n",
    "first_AllNBA_selection = drafted_2007_later.groupby('player')['season_x'].min()\n",
    "drafted_2007_later['YoE'] = drafted_2007_later.apply(lambda row: row['season_x'] - first_AllNBA_selection[row['player']],axis=1)\n",
    "\n",
    "#Calculate average years of experience before first All NBA selection and print\n",
    "avg_experience = drafted_2007_later['YoE'].mean()\n",
    "print(\"Average Years of Experience Before First All-NBA Selection (2007 or later draftees): {:.2f}\".format(avg_experience))"
   ]
  },
  {
   "cell_type": "markdown",
   "metadata": {},
   "source": [
    "<strong><span style=\"color:red\">ANSWER 2:</span></strong>  \n",
    "\n",
    "3.75 Years  "
   ]
  },
  {
   "cell_type": "markdown",
   "metadata": {},
   "source": [
    "## Data Cleaning Interlude  \n",
    "\n",
    "You're going to work to create a dataset with a \"career outcome\" for each player, representing the highest level of success that the player achieved for **at least two** seasons *after his first four seasons in the league* (examples to follow below!). To do this, you'll start with single season level outcomes. On a single season level, the outcomes are:  \n",
    "\n",
    "- Elite: A player is \"Elite\" in a season if he won any All NBA award (1st, 2nd, or 3rd team), MVP, or DPOY in that season.    \n",
    "- All-Star: A player is \"All-Star\" in a season if he was selected to be an All-Star that season.   \n",
    "- Starter:  A player is a \"Starter\" in a season if he started in at least 41 games in the season OR if he played at least 2000 minutes in the season.    \n",
    "- Rotation:  A player is a \"Rotation\" player in a season if he played at least 1000 minutes in the season.   \n",
    "- Roster:  A player is a \"Roster\" player in a season if he played at least 1 minute for an NBA team but did not meet any of the above criteria.     \n",
    "- Out of the League: A player is \"Out of the League\" if he is not in the NBA in that season.   \n",
    "\n",
    "We need to make an adjustment for determining Starter/Rotation qualifications for a few seasons that didn't have 82 games per team. Assume that there were 66 possible games in the 2011 lockout season and 72 possible games in each of the 2019 and 2020 seasons that were shortened due to covid. Specifically, if a player played 900 minutes in 2011, he **would** meet the rotation criteria because his final minutes would be considered to be 900 * (82/66) = 1118. Please use this math for both minutes and games started, so a player who started 38 games in 2019 or 2020 would be considered to have started 38 * (82/72) = 43 games, and thus would qualify for starting 41. Any answers should be calculated assuming you round the multiplied values to the nearest whole number.\n",
    "\n",
    "Note that on a season level, a player's outcome is the highest level of success he qualifies for in that season. Thus, since Shai Gilgeous-Alexander was both All-NBA 1st team and an All-Star last year, he would be considered to be \"Elite\" for the 2022 season, but would still qualify for a career outcome of All-Star if in the rest of his career he made one more All-Star game but no more All-NBA teams. Note this is a hypothetical, and Shai has not yet played enough to have a career outcome.    \n",
    "\n",
    "Examples:  \n",
    "\n",
    "- A player who enters the league as a rookie and has season outcomes of Roster (1), Rotation (2), Rotation (3), Roster (4), Roster (5), Out of the League (6+) would be considered \"Out of the League,\" because after his first four seasons, he only has a single Roster year, which does not qualify him for any success outcome.  \n",
    "- A player who enters the league as a rookie and has season outcomes of Roster (1), Rotation (2), Starter (3), Starter (4), Starter (5), Starter (6), All-Star (7), Elite (8), Starter (9) would be considered \"All-Star,\" because he had at least two seasons after his first four at all-star level of production or higher.  \n",
    "- A player who enters the league as a rookie and has season outcomes of Roster (1), Rotation (2), Starter (3), Starter (4), Starter (5), Starter (6), Rotation (7), Rotation (8), Roster (9) would be considered a \"Starter\" because he has two seasons after his first four at a starter level of production. \n"
   ]
  },
  {
   "cell_type": "markdown",
   "metadata": {},
   "source": [
    "### Question 3  \n",
    "\n",
    "**QUESTION:** There are 73 players in the `player_data` dataset who have 2010 listed as their draft year. How many of those players have a **career** outcome in each of the 6 buckets?  "
   ]
  },
  {
   "cell_type": "markdown",
   "metadata": {},
   "source": [
    "## Data Cleaning Step"
   ]
  },
  {
   "cell_type": "code",
   "execution_count": 9,
   "metadata": {},
   "outputs": [],
   "source": [
    "# Create dataframe that only includes players drafted in 2010 or later\n",
    "drafted_2010 = cleaned_mergedData[cleaned_mergedData['draftyear']>= 2010].copy()\n",
    "\n",
    "#Drop unwanted columns and keep columns used for buckets\n",
    "drafted_2010.drop(columns=['Bill Russell NBA Finals MVP','allRookie_Selections', 'most_imp',\n",
    "       'roty', 'smoty', 'fgm', 'fga', 'fgp', 'fgm3', 'fga3', 'fgp3', 'fgm2',\n",
    "       'fga2', 'fgp2', 'efg', 'ftm', 'fta', 'ftp', 'off_reb', 'def_reb',\n",
    "       'tot_reb', 'ast', 'steals', 'blocks', 'tov', 'tot_fouls', 'points',\n",
    "       'PER', 'FTr', 'off_reb_pct', 'def_reb_pct', 'tot_reb_pct', 'ast_pct',\n",
    "       'stl_pct', 'blk_pct', 'tov_pct', 'usg', 'OWS', 'DWS', 'WS', 'OBPM',\n",
    "       'DBPM', 'BPM', 'VORP'],inplace=True)\n",
    "\n",
    "#Fill null values with 0's\n",
    "drafted_2010.fillna(value=0,inplace=True)\n",
    "\n",
    "#Replace True and False with 1 and 0\n",
    "drafted_2010.all_star_game.replace([True,False],[1,0],inplace=True)\n"
   ]
  },
  {
   "cell_type": "code",
   "execution_count": 10,
   "metadata": {
    "scrolled": true
   },
   "outputs": [
    {
     "name": "stdout",
     "output_type": "stream",
     "text": [
      "      Career Outcome  Count\n",
      "0  Out of the League    342\n",
      "1            Starter    189\n",
      "2             Roster    147\n",
      "3           Rotation    109\n",
      "4              Elite     37\n",
      "5           All-Star     14\n"
     ]
    }
   ],
   "source": [
    "# Function to calculate adjusted games and minutes\n",
    "def adj_for_lockout(row):\n",
    "    #Adjust for the 66 playable games in 2011\n",
    "    if row['season'] == 2011:\n",
    "        row['games_start'] = round(row['games_start'] * (82/66))\n",
    "        row['mins'] = round(row['mins'] * (82/66))\n",
    "        return row\n",
    "    #Adjust for the 72 playable games in 2019 and 2020\n",
    "    elif row['season'] in [2019,2020]:\n",
    "        row['games_start'] = round(row['games_start'] * (82/72))\n",
    "        row['mins'] = round(row['mins'] * (82/72))\n",
    "#Apply function to dataset\n",
    "drafted_2010.apply(adj_for_lockout,axis=1)\n",
    "\n",
    "#Create function to determine single season level outcome\n",
    "def get_single_season_outcome(row):\n",
    "    if row['allNBA_Selections'] > 0:\n",
    "        return 'Elite'\n",
    "    elif row['all_star_game'] == 1:\n",
    "        return 'All-Star'\n",
    "    elif row['games_start'] >= 41 or row['mins'] >= 2000:\n",
    "        return 'Starter'\n",
    "    elif row['mins'] >= 1000:\n",
    "        return 'Rotation'\n",
    "    elif row['mins'] >= 1:\n",
    "        return 'Roster'\n",
    "    else:\n",
    "        return 'Out of the League'\n",
    "#Apply function to dataset, adds column with single season outcome for each player each season    \n",
    "drafted_2010['Single Season Outcome'] = drafted_2010.apply(get_single_season_outcome, axis=1)   \n",
    "\n",
    "#Create function that determines career outcome based on single season outcomes, exluding the first 4 seasons\n",
    "def get_career_outcome(player_group):\n",
    "    player_group = player_group[4:] #Exclude the first 4 seasons\n",
    "    outcomes = ['Elite', 'All-Star','Starter','Rotation','Roster','Out of the League']\n",
    "    for outcome in outcomes:\n",
    "        if player_group['Single Season Outcome'].eq(outcome).sum()>=2:\n",
    "            return outcome\n",
    "    return 'Out of the League'\n",
    "\n",
    "#Group by player and apply the career outcome function and reset the index to career outcome\n",
    "career_outcomes = drafted_2010.groupby('player').apply(get_career_outcome).reset_index(name='Career Outcome')\n",
    "#Count number of players in each career outcome category\n",
    "outcome_counts = career_outcomes['Career Outcome'].value_counts().reset_index()\n",
    "#Rename columns for clarity\n",
    "outcome_counts.columns = ['Career Outcome', 'Count']\n",
    "#Sort the outcomes by their count values, descending\n",
    "outcome_counts = outcome_counts.sort_values(by='Count',ascending = False)\n",
    "\n",
    "print(outcome_counts)"
   ]
  },
  {
   "cell_type": "markdown",
   "metadata": {},
   "source": [
    "<strong><span style=\"color:red\">ANSWER 3:</span></strong>  \n",
    "\n",
    "Elite: 37 players.  \n",
    "All-Star: 14 players.  \n",
    "Starter: 189 players.  \n",
    "Rotation: 109 players.  \n",
    "Roster: 147 players.  \n",
    "Out of League: 342 players.  "
   ]
  },
  {
   "cell_type": "markdown",
   "metadata": {},
   "source": [
    "### Open Ended Modeling Question   \n",
    "\n",
    "In this question, you will work to build a model to predict a player's career outcome based on information up through the first four years of his career. \n",
    "\n",
    "This question is intentionally left fairly open ended, but here are some notes and specifications.  \n",
    "\n",
    "1. We know modeling questions can take a long time, and that qualified candidates will have different levels of experience with \"formal\" modeling. Don't be discouraged. It's not our intention to make you spend excessive time here. If you get your model to a good spot but think you could do better by spending a lot more time, you can just write a bit about your ideas for future improvement and leave it there. Further, we're more interested in your thought process and critical thinking than we are in specific modeling techniques. Using smart features is more important than using fancy mathematical machinery, and a successful candidate could use a simple regression approach. \n",
    "\n",
    "2. You may use any data provided in this project, but please do not bring in any external sources of data. Note that while most of the data provided goes back to 2007, All NBA and All Rookie team voting is only included back to 2011.  \n",
    "\n",
    "3. A player needs to complete three additional seasons after their first four to be considered as having a distinct career outcome for our dataset. Because the dataset in this project ends in 2021, this means that a player would need to have had the chance to play in the '21, '20, and '19 seasons after his first four years, and thus his first four years would have been '18, '17, '16, and '15. **For this reason, limit your training data to players who were drafted in or before the 2015 season.** Karl-Anthony Towns was the #1 pick in that season.  \n",
    "\n",
    "4. Once you build your model, predict on all players who were drafted in 2018-2021 (They have between 1 and 4 seasons of data available and have not yet started accumulating seasons that inform their career outcome).  \n",
    "\n",
    "5. You can predict a single career outcome for each player, but it's better if you can predict the probability that each player falls into each outcome bucket.    \n",
    "\n",
    "6. Include, as part of your answer:  \n",
    "  - A brief written overview of how your model works, targeted towards a decision maker in the front office without a strong statistical background. \n",
    "  - What you view as the strengths and weaknesses of your model.  \n",
    "  - How you'd address the weaknesses if you had more time and or more data.  \n",
    "  - A matplotlib or plotly visualization highlighting some part of your modeling process, the model itself, or your results.  \n",
    "  - Your predictions for Shai Gilgeous-Alexander, Zion Williamson, James Wiseman, and Josh Giddey.  \n",
    "  - (Bonus!) An html table (for example, see the package `reactable`) containing all predictions for the players drafted in 2019-2021.  \n",
    "\n"
   ]
  },
  {
   "cell_type": "code",
   "execution_count": 11,
   "metadata": {},
   "outputs": [],
   "source": [
    "# Create dataset that only includes players drafted in or before 2015\n",
    "drafted_15 = cleaned_mergedData[cleaned_mergedData['draftyear'] < 2016].copy()\n",
    "drafted_15.fillna(0,inplace=True)"
   ]
  },
  {
   "cell_type": "code",
   "execution_count": 160,
   "metadata": {
    "scrolled": false
   },
   "outputs": [
    {
     "name": "stdout",
     "output_type": "stream",
     "text": [
      "                   precision    recall  f1-score   support\n",
      "\n",
      "         All-Star       0.00      0.00      0.00       253\n",
      "            Elite       0.78      0.70      0.74      2165\n",
      "Out of the League       1.00      0.00      0.00         2\n",
      "           Roster       0.00      0.00      0.00       134\n",
      "         Rotation       0.00      0.00      0.00       490\n",
      "          Starter       0.66      0.91      0.76      2924\n",
      "\n",
      "         accuracy                           0.70      5968\n",
      "        macro avg       0.41      0.27      0.25      5968\n",
      "     weighted avg       0.61      0.70      0.64      5968\n",
      "\n"
     ]
    }
   ],
   "source": [
    "features = ['games', 'games_start', 'mins', 'PPG', 'Bill Russell NBA Finals MVP',\n",
    "            'dpoy', 'mvp', 'most_imp', 'roty', 'smoty', 'all_star_game',\n",
    "            'rookie_all_star_game', 'off_reb_pct', 'def_reb_pct',\n",
    "            'tot_reb_pct', 'ast_pct', 'stl_pct', 'blk_pct', 'tov_pct', 'usg']\n",
    "\n",
    "# Define the target variable\n",
    "def get_single_season_outcome(row):\n",
    "    if row['allNBA_Selections'] > 0:\n",
    "        return 'Elite'\n",
    "    elif row['all_star_game'] == 1:\n",
    "        return 'All-Star'\n",
    "    elif row['games_start'] >= 41 or row['mins'] >= 2000:\n",
    "        return 'Starter'\n",
    "    elif row['mins'] >= 1000:\n",
    "        return 'Rotation'\n",
    "    elif row['mins'] >= 1:\n",
    "        return 'Roster'\n",
    "    else:\n",
    "        return 'Out of the League'\n",
    "\n",
    "# Apply function to dataset, adds column with single-season outcome for each player each season\n",
    "drafted_15['Single Season Outcome'] = drafted_15.apply(get_single_season_outcome, axis=1)\n",
    "\n",
    "# Create function that determines career outcome based on single-season outcomes, excluding the first 4 seasons\n",
    "def get_career_outcome(player_group):\n",
    "    player_group = player_group\n",
    "    outcomes = ['Elite', 'All-Star', 'Starter', 'Rotation', 'Roster', 'Out of the League']\n",
    "    for outcome in outcomes:\n",
    "        if player_group['Single Season Outcome'].eq(outcome).sum() >= 2:\n",
    "            return outcome\n",
    "    return 'Out of the League'\n",
    "\n",
    "# Group the data by player and apply the get_career_outcome function to get the career outcome\n",
    "career_outcomes = drafted_15.groupby('player').apply(get_career_outcome).rename('Career Outcome')\n",
    "\n",
    "# Merge the career outcomes with the original dataset\n",
    "drafted_15 = drafted_15.merge(career_outcomes, left_on='player', right_index=True, suffixes=('', '_career'))\n",
    "\n",
    "# Prepare the data for modeling\n",
    "X = drafted_15[features]\n",
    "y = drafted_15['Career Outcome']\n",
    "\n",
    "# Split the data into training and testing sets\n",
    "X_train, X_test, y_train, y_test = train_test_split(X, y, test_size=0.2, random_state=42)\n",
    "\n",
    "# Create a StandardScaler object and scale the features\n",
    "scaler = StandardScaler()\n",
    "X_train_scaled = scaler.fit_transform(X_train)\n",
    "X_test_scaled = scaler.transform(X_test)\n",
    "\n",
    "# Build and train a logistic regression model on scaled data\n",
    "model = LogisticRegression(max_iter=1000)\n",
    "model.fit(X_train_scaled, y_train)\n",
    "\n",
    "# Make predictions on the test set\n",
    "y_pred = model.predict(X_test_scaled)\n",
    "\n",
    "# Evaluate the model and set zero_division parameter to avoid warnings\n",
    "report = classification_report(y_test, y_pred, zero_division=1)\n",
    "print(report)"
   ]
  },
  {
   "cell_type": "code",
   "execution_count": 177,
   "metadata": {
    "scrolled": true
   },
   "outputs": [
    {
     "name": "stdout",
     "output_type": "stream",
     "text": [
      "       nbapersonid                   player Predicted Career Outcome\n",
      "18923    1628983.0  Shai Gilgeous-Alexander                  Starter\n",
      "       nbapersonid           player Predicted Career Outcome\n",
      "19343    1629627.0  Zion Williamson                  Starter\n",
      "       nbapersonid         player Predicted Career Outcome\n",
      "21551    1630164.0  James Wiseman                  Starter\n",
      "       nbapersonid       player Predicted Career Outcome\n",
      "19742    1630581.0  Josh Giddey                    Elite\n"
     ]
    }
   ],
   "source": [
    "drafted_18to21 = cleaned_mergedData[cleaned_mergedData['draftyear'] >= 2018].copy()\n",
    "drafted_18to21.fillna(0,inplace=True)\n",
    "\n",
    "X_new = drafted_18to21[features]\n",
    "\n",
    "# Scale the features using the same StandardScaler object\n",
    "X_new_scaled = scaler.transform(X_new)\n",
    "\n",
    "# Use the trained logistic regression model to make predictions on the new dataset\n",
    "predictions = model.predict(X_new_scaled)\n",
    "\n",
    "# Create a DataFrame to store the predictions along with player information\n",
    "predictions_df = drafted_18to21[['nbapersonid', 'player']].copy()\n",
    "predictions_df['Predicted Career Outcome'] = predictions\n",
    "predictions_df = predictions_df.drop_duplicates(subset='player', keep='first')\n",
    "# Display or export the predictions\n",
    "print(predictions_df[predictions_df['player'] == 'Shai Gilgeous-Alexander'])\n",
    "print(predictions_df[predictions_df['player'] == 'Zion Williamson'])\n",
    "print(predictions_df[predictions_df['player'] == 'James Wiseman'])\n",
    "print(predictions_df[predictions_df['player'] == 'Josh Giddey'])\n"
   ]
  },
  {
   "cell_type": "markdown",
   "metadata": {},
   "source": [
    "## Overview\n",
    "My model is designed to predict the career outcomes of NBA players based on their performance during the first four years of their careers. The goal is to provide front office decision-makers with insights into whether a player is likely to have a successful career or not. The model takes into account various player statistics, including games played, minutes, points per game, and other performance metrics. It uses logistic regression, a common statistical technique, to make these predictions.\n",
    "\n",
    "### Strengths:\n",
    "-Interpretability: The model's simplicity allows for easy interpretation of the results. Decision-makers can understand which factors are most influential in predicting a player's career outcome.\n",
    "-Real-world Applicability: Logistic regression is a practical choice for this problem since it can handle small datasets and works well with binary classification tasks.\n",
    "\n",
    "### Weaknesses:\n",
    "-Limited Data: The model relies on data up to the 2015 draft class, which limits its ability to predict players drafted in 2018-2021. More recent data could provide valuable insights.\n",
    "\n",
    "-Assumptions: The model assumes that a player's early career performance is a strong indicator of their entire career. While this can be true in many cases, some players may experience significant changes in performance later in their careers.\n",
    "\n",
    "### Addressing Weaknesses:\n",
    "To address the weaknesses, I would consider the following:\n",
    "\n",
    "-More Recent Data: Collecting and incorporating data for players drafted after 2015 would improve the model's ability to predict more recent draft classes.\n",
    "\n",
    "-Feature Engineering: Identifying additional relevant features or developing more sophisticated features could enhance the model's predictive power. For example, incorporating advanced player tracking data and player-specific trends could be beneficial.\n",
    "\n",
    "-Advanced Models: Exploring more complex machine learning models beyond logistic regression, such as decision trees or neural networks, could potentially capture intricate patterns in player careers.\n",
    "\n",
    "### Predictions for Specific Players:\n",
    "\n",
    "1. Shai Gilgeous-Alexander: Starter\n",
    "2. Zion Williamson: Starter\n",
    "3. James Wiseman: Starter\n",
    "4. Josh Giddey: Elite"
   ]
  },
  {
   "cell_type": "markdown",
   "metadata": {},
   "source": [
    "## Below is a bar chart visualization highlighting the importance of different features in predicting career outcomes, based on the model's feature importance scores:"
   ]
  },
  {
   "cell_type": "code",
   "execution_count": 178,
   "metadata": {},
   "outputs": [
    {
     "data": {
      "image/png": "[encoded data removed]",
      "text/plain": [
       "<Figure size 1000x600 with 1 Axes>"
      ]
     },
     "metadata": {},
     "output_type": "display_data"
    }
   ],
   "source": [
    "import matplotlib.pyplot as plt\n",
    "\n",
    "# Extract feature importance from the logistic regression model\n",
    "feature_importance = model.coef_[0]\n",
    "feature_names = features\n",
    "\n",
    "# Plot feature importance\n",
    "plt.figure(figsize=(10, 6))\n",
    "plt.barh(feature_names, feature_importance, color='skyblue')\n",
    "plt.xlabel('Feature Importance')\n",
    "plt.title('Feature Importance in Predicting Career Outcomes')\n",
    "plt.gca().invert_yaxis()\n",
    "plt.show()"
   ]
  },
  {
   "cell_type": "markdown",
   "metadata": {},
   "source": [
    "## Part 2 -- Predicting Team Stats  \n",
    "\n",
    "In this section, we're going to introduce a simple way to predict team offensive rebound percent in the next game and then discuss ways to improve those predictions.  \n",
    " \n",
    "### Question 1   \n",
    "\n",
    "Using the `rebounding_data` dataset, we'll predict a team's next game's offensive rebounding percent to be their average offensive rebounding percent in all prior games. On a single game level, offensive rebounding percent is the number of offensive rebounds divided by their number offensive rebound \"chances\" (essentially the team's missed shots). On a multi-game sample, it should be the total number of offensive rebounds divided by the total number of offensive rebound chances.    \n",
    "\n",
    "Please calculate what OKC's predicted offensive rebound percent is for game 81 in the data. That is, use games 1-80 to predict game 81.  "
   ]
  },
  {
   "cell_type": "code",
   "execution_count": 12,
   "metadata": {
    "jupyter": {
     "outputs_hidden": true
    }
   },
   "outputs": [
    {
     "name": "stdout",
     "output_type": "stream",
     "text": [
      "Predicted Offensive Rebound Percentage: 28.1\n"
     ]
    }
   ],
   "source": [
    "#Created variable that returns the predicted OReb percentage for game 81\n",
    "game81_oreb_chance = rebounding_data['offensive_rebounds'].sum() / rebounding_data['off_rebound_chances'].sum() * 100\n",
    "print('Predicted Offensive Rebound Percentage: {:.1f}'.format(game81_oreb_chance))"
   ]
  },
  {
   "cell_type": "markdown",
   "metadata": {},
   "source": [
    "<strong><span style=\"color:red\">ANSWER 1:</span></strong>  \n",
    "\n",
    "28.1% "
   ]
  },
  {
   "cell_type": "markdown",
   "metadata": {},
   "source": [
    "### Question 2  \n",
    "\n",
    "There are a few limitations to the method we used above. For example, if a team has a great offensive rebounder who has played in most games this season but will be out due to an injury for the next game, we might reasonably predict a lower team offensive rebound percent for the next game.  \n",
    "\n",
    "Please discuss how you would think about changing our original model to better account for missing players. You do not have to write any code or implement any changes, and you can assume you have access to any reasonable data that isn't provided in this project. Try to be clear and concise with your answer.  "
   ]
  },
  {
   "cell_type": "markdown",
   "metadata": {},
   "source": [
    "<strong><span style=\"color:red\">ANSWER 2:</span></strong>  "
   ]
  },
  {
   "cell_type": "markdown",
   "metadata": {},
   "source": [
    "What I would do to better account for missing players would be to take each players rebounds per game and find the percentage of the teams total rebounds they accounted for. I would do this for every game available at the point in time that you need the information, then I would average each players percent of total team rebounds out and adjust the future games prediction by the percent the missing player accounts for. \n",
    "\n",
    "For example, say Chet Holmgren accounts for an average of 20% of the teams rebounds per game through 46 games and Jaylin Williams accounts for 5% of the teams total rebounds through 46 games. If Holmgren is missing, I would lower the predicted offensive rebound percentage by up to 15% because of the difference in total percent contribution to the teams rebounds between the two players. I say up to 15% because there is always a chance that Jaylin Williams will increase his share of the teams rebounds with more playing time, in fact, it is very probable this will happen. So reducing the total rebound percent by maybe 5-10% and adjust the percentage on a game to game basis. "
   ]
  },
  {
   "cell_type": "markdown",
   "metadata": {},
   "source": [
    "### Question 3  \n",
    "\n",
    "In question 2, you saw and discussed how to deal with one weakness of the model. For this question, please write about 1-3 other potential weaknesses of the simple average model you made in question 1 and discuss how you would deal with each of them. You may either explain a weakness and discuss how you'd fix that weakness, then move onto the next issue, or you can start by explaining multiple weaknesses with the original approach and discuss one overall modeling methodology you'd use that gets around most or all of them. Again, you do not need to write any code or implement any changes, and you can assume you have access to any reasonable data that isn't provided in this project. Try to be clear and concise with your answer.  \n"
   ]
  },
  {
   "cell_type": "markdown",
   "metadata": {},
   "source": [
    "<strong><span style=\"color:red\">ANSWER 3:</span></strong>  "
   ]
  },
  {
   "cell_type": "markdown",
   "metadata": {},
   "source": [
    "1. Lack of Seasonal Variation Handling\n",
    "The original model assumes that the offensive rebound percentage remains constant throughout the season. We all know that as a season progresses, players and teams can get worn down and start to under-perform in some areas. To account for this, I would implement either a rolling average or a moving window approach. Instead of considering the average for all previous games, you would only calculate the average for the most recent games in order to give more weight to recent performances and capture changes in team dynamics.\n",
    "\n",
    "2. Player Injuries and Lineup Changes\n",
    "The original model does not account for injuries, trades or lineup changes. These can have a huge affect on rebounding percentage in the short term or on a game to game basis. To account for this issue, I would try to incorporate data on player availability and lineup changes. For example, some teams like to implement a strategy called 'small ball.' This means that a team would sacrifice height and power for speed and agility because it would create a mismatch between the guard-type players and the post players. The effect of this would be increased scoring but also decreased rebounding due to the sacrifice in height and power. \n",
    "\n",
    "3. Opponent Strength Variation\n",
    "The model doesn't account for the differences between each team, it essentially treats everyone equally. To account for this, I would incorporate opponent-specific stats. This would help in identifying how the oppenent's capabilities compare to our own capabilities. We could even compare our stats versus a team we have already played to the stats of the opponent who has also played that team. This would give some insight as to whether we were able to perform better against a team we have both played."
   ]
  }
 ],
 "metadata": {
  "kernelspec": {
   "display_name": "Python 3 (ipykernel)",
   "language": "python",
   "name": "python3"
  },
  "language_info": {
   "codemirror_mode": {
    "name": "ipython",
    "version": 3
   },
   "file_extension": ".py",
   "mimetype": "text/x-python",
   "name": "python",
   "nbconvert_exporter": "python",
   "pygments_lexer": "ipython3",
   "version": "3.9.13"
  }
 },
 "nbformat": 4,
 "nbformat_minor": 4
}
